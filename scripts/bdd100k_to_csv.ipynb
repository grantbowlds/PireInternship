{
 "cells": [
  {
   "cell_type": "code",
   "execution_count": 1,
   "metadata": {},
   "outputs": [],
   "source": [
    "import tensorflow as tf\n",
    "import json\n",
    "import math\n",
    "import random\n",
    "import pathlib\n",
    "import contextlib2\n",
    "import matplotlib.pyplot as plt\n",
    "import matplotlib.image as imldr # image loader\n",
    "import pandas as pd\n",
    "from tqdm.notebook import tqdm"
   ]
  },
  {
   "cell_type": "code",
   "execution_count": 2,
   "metadata": {},
   "outputs": [],
   "source": [
    "folder_string = '/mnt/hdd/gbowlds/images/100k/train'\n",
    "folder = pathlib.Path('/mnt/hdd/gbowlds/images/100k/train')\n",
    "lbls_path = pathlib.Path('/mnt/hdd/gbowlds/nclabels/labels/bdd100k_nclabels_images_train.json')\n",
    "classes = ['traffic light', 'traffic sign', 'person', 'bike', 'car', 'bus', 'truck', 'motor', 'rider', 'train']"
   ]
  },
  {
   "cell_type": "code",
   "execution_count": 3,
   "metadata": {},
   "outputs": [],
   "source": [
    "def bdd100k_extract_labels(sample: str, classes: list):\n",
    "    \"\"\"\n",
    "    Helper method which extracts all label information for the sample, \n",
    "    namely all categories and their corresponding indexes and all bounding box coordinates.\n",
    "    \n",
    "    Parameters:\n",
    "        sample (str): Current sample (json file)\n",
    "        classes (str): List of classes, e.g. ['car', 'person'] with implicit car = 0, person = 1 indexing\n",
    "        img_height (int): Height of images\n",
    "        img_width (int): Width of images\n",
    "    \"\"\"\n",
    "    \n",
    "    for lbl in sample['labels']:\n",
    "        # Special category? (not used by TensorFlow object detection API)\n",
    "        if lbl['category'] in ['drivable area', 'lane']:\n",
    "            continue\n",
    "        else:\n",
    "            imgs.append(folder_string + '/' + sample['name'])\n",
    "            things.append(lbl['category'])\n",
    "            index.append(classes.index(lbl['category']) + 1) # +1 as idx 0 is background\n",
    "            x1.append(int(lbl['box2d']['x1']))\n",
    "            y1.append(int(lbl['box2d']['y1']))\n",
    "            x2.append(int(lbl['box2d']['x2'])+1)\n",
    "            y2.append(int(lbl['box2d']['y2'])+1)\n",
    "            "
   ]
  },
  {
   "cell_type": "code",
   "execution_count": 4,
   "metadata": {},
   "outputs": [],
   "source": [
    "imgs = []\n",
    "index = []\n",
    "things = []\n",
    "x1 = []\n",
    "x2 = []\n",
    "y1 = []\n",
    "y2 = []"
   ]
  },
  {
   "cell_type": "code",
   "execution_count": 5,
   "metadata": {},
   "outputs": [],
   "source": [
    "def clear_lists():    \n",
    "    imgs.clear()\n",
    "    index.clear()\n",
    "    things.clear()\n",
    "    x1.clear()\n",
    "    x2.clear()\n",
    "    y1.clear()\n",
    "    y2.clear()"
   ]
  },
  {
   "cell_type": "code",
   "execution_count": 9,
   "metadata": {},
   "outputs": [],
   "source": [
    "def gen_csv(cond: str):\n",
    "\n",
    "    with open(lbls_path) as lbls_file:\n",
    "        samples = json.load(lbls_file)\n",
    "        random.shuffle(samples)\n",
    "    \n",
    "        for sample in tqdm(samples):\n",
    "            # Image data\n",
    "            name = sample['name']\n",
    "            fpath = folder/name\n",
    "            weather = sample['attributes']['weather']\n",
    "            scene = sample['attributes']['scene']\n",
    "            tod = sample['attributes']['timeofday']\n",
    "            if (weather == cond):\n",
    "                imgs.append(folder_string + '/' + name)\n",
    "            #bdd100k_extract_labels(sample, classes)\n",
    "        \n",
    "        \n",
    "        labels = pd.DataFrame((list(imgs)))\n",
    "    \n",
    "        dataset_size = len(labels)\n",
    "    labels.to_csv('/mnt/hdd/gbowlds/weather_csv/' + cond + '.csv', header =False, index =False)"
   ]
  },
  {
   "cell_type": "code",
   "execution_count": 10,
   "metadata": {},
   "outputs": [
    {
     "data": {
      "application/vnd.jupyter.widget-view+json": {
       "model_id": "625c910ee81f4f34b9795a3d0e6e4ec8",
       "version_major": 2,
       "version_minor": 0
      },
      "text/plain": [
       "HBox(children=(FloatProgress(value=0.0, max=69863.0), HTML(value='')))"
      ]
     },
     "metadata": {},
     "output_type": "display_data"
    },
    {
     "name": "stdout",
     "output_type": "stream",
     "text": [
      "\n"
     ]
    },
    {
     "data": {
      "application/vnd.jupyter.widget-view+json": {
       "model_id": "65c6ba8e7a8a4cb1a23f973dcbbd4d17",
       "version_major": 2,
       "version_minor": 0
      },
      "text/plain": [
       "HBox(children=(FloatProgress(value=0.0, max=69863.0), HTML(value='')))"
      ]
     },
     "metadata": {},
     "output_type": "display_data"
    },
    {
     "name": "stdout",
     "output_type": "stream",
     "text": [
      "\n"
     ]
    },
    {
     "data": {
      "application/vnd.jupyter.widget-view+json": {
       "model_id": "d6f306ec14a84b049c6cb8fb03e9426c",
       "version_major": 2,
       "version_minor": 0
      },
      "text/plain": [
       "HBox(children=(FloatProgress(value=0.0, max=69863.0), HTML(value='')))"
      ]
     },
     "metadata": {},
     "output_type": "display_data"
    },
    {
     "name": "stdout",
     "output_type": "stream",
     "text": [
      "\n"
     ]
    },
    {
     "data": {
      "application/vnd.jupyter.widget-view+json": {
       "model_id": "2a1fccc342324bef89240f062f709919",
       "version_major": 2,
       "version_minor": 0
      },
      "text/plain": [
       "HBox(children=(FloatProgress(value=0.0, max=69863.0), HTML(value='')))"
      ]
     },
     "metadata": {},
     "output_type": "display_data"
    },
    {
     "name": "stdout",
     "output_type": "stream",
     "text": [
      "\n"
     ]
    },
    {
     "data": {
      "application/vnd.jupyter.widget-view+json": {
       "model_id": "8d6c1485ce714931898199a6d0323aeb",
       "version_major": 2,
       "version_minor": 0
      },
      "text/plain": [
       "HBox(children=(FloatProgress(value=0.0, max=69863.0), HTML(value='')))"
      ]
     },
     "metadata": {},
     "output_type": "display_data"
    },
    {
     "name": "stdout",
     "output_type": "stream",
     "text": [
      "\n"
     ]
    }
   ],
   "source": [
    "gen_csv('clear')\n",
    "clear_lists()\n",
    "gen_csv('overcast')\n",
    "clear_lists()\n",
    "gen_csv('partly cloudy')\n",
    "clear_lists()\n",
    "gen_csv('rainy')\n",
    "clear_lists()\n",
    "gen_csv('snowy')\n",
    "clear_lists()"
   ]
  },
  {
   "cell_type": "code",
   "execution_count": 10,
   "metadata": {},
   "outputs": [
    {
     "data": {
      "application/vnd.jupyter.widget-view+json": {
       "model_id": "aef52e4bb4f8490ea7f837d5aae6e916",
       "version_major": 2,
       "version_minor": 0
      },
      "text/plain": [
       "HBox(children=(FloatProgress(value=0.0, max=10000.0), HTML(value='')))"
      ]
     },
     "metadata": {},
     "output_type": "display_data"
    },
    {
     "name": "stdout",
     "output_type": "stream",
     "text": [
      "\n"
     ]
    }
   ],
   "source": [
    "gen_csv('unstr')"
   ]
  }
 ],
 "metadata": {
  "kernelspec": {
   "display_name": "Python 3",
   "language": "python",
   "name": "python3"
  },
  "language_info": {
   "codemirror_mode": {
    "name": "ipython",
    "version": 3
   },
   "file_extension": ".py",
   "mimetype": "text/x-python",
   "name": "python",
   "nbconvert_exporter": "python",
   "pygments_lexer": "ipython3",
   "version": "3.7.5"
  }
 },
 "nbformat": 4,
 "nbformat_minor": 4
}
